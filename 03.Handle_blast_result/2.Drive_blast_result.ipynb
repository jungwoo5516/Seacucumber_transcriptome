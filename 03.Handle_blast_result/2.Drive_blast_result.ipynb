{
 "cells": [
  {
   "cell_type": "code",
   "execution_count": 4,
   "metadata": {},
   "outputs": [],
   "source": [
    "import pandas as pd"
   ]
  },
  {
   "cell_type": "code",
   "execution_count": 5,
   "metadata": {},
   "outputs": [],
   "source": [
    "blast_1vs1_matching_list = pd.read_csv('../01.splice_only1_seq/blast_1vs1_matching.csv')"
   ]
  },
  {
   "attachments": {},
   "cell_type": "markdown",
   "metadata": {},
   "source": [
    "### Header mean\n",
    "1 qseqid / query sequence id / 쿼리 서열의 아이디 <br><br>\n",
    "2 sseqid / subject sequence id 데이터베이스 서열의 아이디 <br><br> \n",
    "3 pident /percentage of identical matches / 매치된 비율 <br><br>\n",
    "4 length / alignment length (sequence overlap) / 정렬된 길이 <br><br>\n",
    "5 mismatch / number of mismatches / mismatch 개수 <br><br>\n",
    "6 gapopen / number of gap openings / gap 개수 <br><br>\n",
    "7 qstart / start of alingment query / 정렬된 쿼리 시작 위치 <br><br>\n",
    "8 qend / end of alignment query / 정렬된 쿼리 끝 위치 <br><br>\n",
    "9 sstart / start of alignment subject / 매치된 서열 시작 위치 <br><br>\n",
    "10 send / end of alignment subject / 매치된 서열 끝 위치 <br><br>\n",
    "11 evlaue / expect value / BLAST 예상 값 <br><br>\n",
    "12 bitscore / bit score / 비트 스코어 <br><br>"
   ]
  },
  {
   "cell_type": "code",
   "execution_count": 6,
   "metadata": {},
   "outputs": [],
   "source": [
    "matching_protein_list = blast_1vs1_matching_list['sseqid']"
   ]
  },
  {
   "cell_type": "code",
   "execution_count": 7,
   "metadata": {},
   "outputs": [
    {
     "data": {
      "text/plain": [
       "0        O96530\n",
       "1        P10079\n",
       "2        O15943\n",
       "3        Q86T03\n",
       "4        Q8BGA9\n",
       "          ...  \n",
       "18476    O08587\n",
       "18477    Q96BD5\n",
       "18478    Q9H0A0\n",
       "18479    Q99P31\n",
       "18480    Q91YA9\n",
       "Name: sseqid, Length: 18481, dtype: object"
      ]
     },
     "execution_count": 7,
     "metadata": {},
     "output_type": "execute_result"
    }
   ],
   "source": [
    "matching_protein_list"
   ]
  },
  {
   "cell_type": "code",
   "execution_count": 8,
   "metadata": {},
   "outputs": [],
   "source": [
    "matching_protein_list.to_csv('matching_protein_list',index=False)"
   ]
  },
  {
   "cell_type": "code",
   "execution_count": null,
   "metadata": {},
   "outputs": [],
   "source": []
  }
 ],
 "metadata": {
  "kernelspec": {
   "display_name": "Python 3",
   "language": "python",
   "name": "python3"
  },
  "language_info": {
   "codemirror_mode": {
    "name": "ipython",
    "version": 3
   },
   "file_extension": ".py",
   "mimetype": "text/x-python",
   "name": "python",
   "nbconvert_exporter": "python",
   "pygments_lexer": "ipython3",
   "version": "3.8.2 (default, Dec 21 2020, 15:06:04) \n[Clang 12.0.0 (clang-1200.0.32.29)]"
  },
  "orig_nbformat": 4,
  "vscode": {
   "interpreter": {
    "hash": "31f2aee4e71d21fbe5cf8b01ff0e069b9275f58929596ceb00d14d90e3e16cd6"
   }
  }
 },
 "nbformat": 4,
 "nbformat_minor": 2
}
